{
  "nbformat": 4,
  "nbformat_minor": 0,
  "metadata": {
    "colab": {
      "provenance": []
    },
    "kernelspec": {
      "name": "python3",
      "display_name": "Python 3"
    },
    "language_info": {
      "name": "python"
    }
  },
  "cells": [
    {
      "cell_type": "code",
      "execution_count": null,
      "metadata": {
        "id": "AVUKReDT1Z5D"
      },
      "outputs": [],
      "source": []
    },
    {
      "cell_type": "markdown",
      "source": [
        "                    **#THEORY QUESTION#**\n",
        "\n",
        "1.\tWhat is Python, and why is it popular?\n",
        "- Python is a high-level, interpreted, general-purpose programming language that emphasizes readability and ease of use. Created by Guido van Rossum and first released in 1991, Python has gained immense popularity for several key reasons.\n",
        "\n",
        "-Ease of Learning\n",
        "-Powerful Data Science and Machine Learning Capabilities\n",
        "-Popularity in Web Development\n",
        "-Growing Demand in Industry\n",
        "-Support for Integration\n",
        "-Open Source"
      ],
      "metadata": {
        "id": "SMR55MWx2U4B"
      }
    },
    {
      "cell_type": "markdown",
      "source": [
        "2.\tWhat is an interpreter in Python?\n",
        "-An interpreter in Python is a program that reads and executes Python code line by line. Unlike a compiler, which translates the entire source code into machine code at once, an interpreter translates the code into an intermediate form (bytecode) and then executes it"
      ],
      "metadata": {
        "id": "l8yR0X-W3voZ"
      }
    },
    {
      "cell_type": "markdown",
      "source": [
        "3.\tWhat are pre—defined keywords in Python\n",
        "-In Python, predefined keywords (often referred to as reserved words) are special words that have a predefined meaning in the Python programming language. These words are reserved for specific syntactical purposes and cannot be used as identifiers (such as variable names, function names, or class names)."
      ],
      "metadata": {
        "id": "fmu8hQxI3-ZO"
      }
    },
    {
      "cell_type": "markdown",
      "source": [
        "4.\tCan keywords be used as variable name\n",
        "-No, keywords cannot be used as variable names in most programming languages\n"
      ],
      "metadata": {
        "id": "JgH8qLE44yXD"
      }
    },
    {
      "cell_type": "markdown",
      "source": [
        "5.\tWhat is mutability in Python?\n",
        "-In Python, mutability refers to the ability of an object to be changed or modified after it has been created. Objects in Python can either be mutable or immutable"
      ],
      "metadata": {
        "id": "YYLJEShG5FuB"
      }
    },
    {
      "cell_type": "markdown",
      "source": [
        "6.\tWhy are lists mutable, but tuples are immutable?\n",
        "-The key difference between lists and tuples in Python lies in their mutability, which is based on their design and intended use.\n",
        "\n",
        "Lists are mutable:\n",
        "\n",
        "Lists are designed to be flexible and dynamic. Their mutability allows elements to be added, removed, or modified after the list has been created.\n",
        "This mutability is useful when you need a collection of items that can change over time (e.g., adding new data, deleting elements, or modifying existing ones).\n",
        "Tuples are immutable:\n",
        "\n",
        "Tuples are designed to be static and fixed once created. Their immutability means that once a tuple is created, its content cannot be changed—no adding, removing, or altering elements.\n",
        "This immutability makes tuples more reliable and predictable. They are often used when the data should remain constant, such as when storing fixed collections of items or representing records."
      ],
      "metadata": {
        "id": "zclKDLdk5njR"
      }
    },
    {
      "cell_type": "markdown",
      "source": [
        "7.\tWhat is the difference between \"==\" and \"is\" operators in Python?\n",
        "-== (Equality Operator):\n",
        "\n",
        "The == operator is used to compare the values of two objects. It checks if the values of the two objects are equal.\n",
        "This means that it evaluates whether the contents of the objects are the same, regardless of whether they are the same object in memory.\n",
        "\n",
        "is (Identity Operator):\n",
        "\n",
        "The is operator compares the identity of two objects, i.e., whether they are the same object in memory.\n",
        "It checks if two references point to the same object, not just if the contents are equal."
      ],
      "metadata": {
        "id": "xLiYSGJm5_Zm"
      }
    },
    {
      "cell_type": "markdown",
      "source": [
        "8.\tWhat are logical operators in Python?\n",
        "-In Python, logical operators are used to perform logical operations on boolean values (True or False). These operators allow you to combine conditional statements or evaluate multiple conditions at once"
      ],
      "metadata": {
        "id": "zgPDyxOh6eGF"
      }
    },
    {
      "cell_type": "markdown",
      "source": [
        "9.\tWhat is type casting in Python?\n",
        "-Type casting in Python refers to the process of converting a variable from one data type to another. This is often necessary when performing operations that require a specific data type, or when you need to manipulate or process values in different forms."
      ],
      "metadata": {
        "id": "_OgXCHxu6rlc"
      }
    },
    {
      "cell_type": "markdown",
      "source": [
        "10.\tWhat is the difference between implicit and explicit type casting?\n",
        "-Implicit Type Casting:\n",
        "In implicit type casting, the programming language automatically converts data from one type to another if needed. For example, if you have an integer variable and you try to assign it to a float variable, the programming language will automatically convert the integer to a float without you having to do anything.\n",
        "\n",
        "-Explicit Type Casting:\n",
        "Explicit type casting, also known as type conversion or type coercion, occurs when the programmer explicitly converts a value from one data type to another. Unlike implicit type casting, explicit type casting requires the programmer to specify the desired data type conversion."
      ],
      "metadata": {
        "id": "pOKpbnfj7JSu"
      }
    },
    {
      "cell_type": "markdown",
      "source": [
        "11.\tWhat is the purpose of conditional statements in Python?\n",
        "-The purpose of conditional statements in Python is to allow the program to make decisions based on certain conditions. These statements enable the program to execute different blocks of code depending on whether a specified condition (or set of conditions) evaluates to True or False."
      ],
      "metadata": {
        "id": "RtGoftWT7svd"
      }
    },
    {
      "cell_type": "markdown",
      "source": [
        "12.\tHow does the elif statement work?\n",
        "-The elif statement in Python is used to add additional conditions to an if statement. It stands for \"else if\" and allows you to test multiple expressions for truth value, where only the first True condition will execute.\n",
        "\n",
        "Here’s how the elif statement works:\n",
        "\n",
        "if statement: The if statement is evaluated first. If the condition is True, the block of code associated with the if is executed.\n",
        "\n",
        "elif statement(s): If the if condition is False, the program checks any elif conditions in sequence. If one of the elif conditions evaluates to True, the associated block of code is executed.\n",
        "\n",
        "else statement (optional): If none of the if or elif conditions are True, the else block (if present) will execute."
      ],
      "metadata": {
        "id": "EB49mvm879tQ"
      }
    },
    {
      "cell_type": "markdown",
      "source": [
        "13.\tWhat is the difference between for and while loops?\n",
        "**For Loop in Programming: **\n",
        "The for loop is used when you know in advance how many times you want to execute the block of code.\n",
        "It iterates over a sequence (e.g., a list, tuple, string, or range) and executes the block of code for each item in the sequence.\n",
        "The loop variable (variable) takes the value of each item in the sequence during each iteration.\n",
        "\n",
        "**-While Loop in Programming:**\n",
        "The while loop is used when you don't know in advance how many times you want to execute the block of code. It continues to execute as long as the specified condition is true.\n",
        "It's important to make sure that the condition eventually becomes false; otherwise, the loop will run indefinitely, resulting in an infinite loop."
      ],
      "metadata": {
        "id": "WcYmIQRI8T7L"
      }
    },
    {
      "cell_type": "markdown",
      "source": [
        "14.\tDescribe a scenario where a while loop is more suitable than a for loop.\n",
        "-\n",
        "A while loop is more suitable than a for loop in scenarios where the number of iterations is not known beforehand or depends on a dynamic condition evaluated during the loop's execution.\n",
        "\n",
        "Scenario: Checking for a valid user input\n",
        "Suppose you need to ask a user for a password and want to keep prompting them until they enter the correct password. Since the number of attempts is not known (the user could potentially take many tries), a while loop would be the ideal choice."
      ],
      "metadata": {
        "id": "EUOD55fo85zo"
      }
    },
    {
      "cell_type": "markdown",
      "source": [
        "                                **#PRACTICAL QUESTION#**\n",
        "\n",
        "\n",
        "\n",
        "1.\tWrite a Python program to print \"Hello, World!\"\n",
        "- print(\"Hello, World!\")\n",
        "\n",
        "2.\tWrite a Python program that displays your name and age.\n",
        " # Define the name and age\n",
        "name = \"Your Name\"\n",
        "age = 25  # Replace with your actual age\n",
        "\n",
        "# Display the name and age\n",
        "print(\"Name:\", name)\n",
        "print(\"Age:\", age)\n",
        "\n",
        "3.\tWrite code to print all the pre—defined keywords in Python using the keyword library.\n",
        "-import keyword\n",
        " print(keyword.kwlist)\n",
        "\n",
        " 4.\tWrite a program that checks if a given word is a Python keyword.\n",
        "import keyword\n",
        "# Function to check if a word is a Python keyword\n",
        "def check_keyword(word):\n",
        "    if keyword.iskeyword(word):\n",
        "        return True\n",
        "    else:\n",
        "        return False\n",
        "\n",
        "# Input from user\n",
        "word = input(\"Enter a word: \")\n",
        "\n",
        "# Check and display if the word is a Python keyword\n",
        "if check_keyword(word):\n",
        "    print(f\"'{word}' is a Python keyword.\")\n",
        "else:\n",
        "    print(f\"'{word}' is not a Python keyword.\")\n",
        "\n",
        "\n",
        " 5.\tCreate a list and tuple in Python, and demonstrate how attempting to change on element works differently for each.\n",
        " # Creating a list\n",
        "my_list = [1, 2, 3, 4, 5]\n",
        "\n",
        "# Attempting to change an element in the list\n",
        "my_list[2] = 10  # This is allowed because lists are mutable\n",
        "print(\"Modified list:\", my_list)\n",
        "\n",
        "# Creating a tuple\n",
        "my_tuple = (1, 2, 3, 4, 5)\n",
        "\n",
        "# Attempting to change an element in the tuple\n",
        "try:\n",
        "    my_tuple[2] = 10  # This will raise an error because tuples are immutable\n",
        "except TypeError as e:\n",
        "    print(\"Error while modifying tuple:\", e)\n",
        "\n",
        " 6.\tWrite a function to demonstrate the behavior of mutable and immutable arguments.\n",
        " def demonstrate_mutable_immutable(mutable_arg, immutable_arg):\n",
        "    print(\"Before modification:\")\n",
        "    print(\"Mutable argument:\", mutable_arg)\n",
        "    print(\"Immutable argument:\", immutable_arg)\n",
        "\n",
        "    # Modifying mutable object (a list in this case)\n",
        "    mutable_arg.append(100)\n",
        "    \n",
        "    # Modifying immutable object (an integer in this case)\n",
        "    immutable_arg += 10  # This does not modify the original integer, but creates a new one\n",
        "\n",
        "    print(\"\\nAfter modification:\")\n",
        "    print(\"Mutable argument:\", mutable_arg)\n",
        "    print(\"Immutable argument:\", immutable_arg)\n",
        "\n",
        "\n",
        "# Test the function\n",
        "mutable_list = [1, 2, 3]\n",
        "immutable_value = 5\n",
        "\n",
        "demonstrate_mutable_immutable(mutable_list, immutable_value)\n",
        "\n",
        "# Check the values outside the function to observe the changes\n",
        "print(\"\\nOutside the function:\")\n",
        "print(\"Mutable list:\", mutable_list)\n",
        "print(\"Immutable value:\", immutable_value)\n",
        "\n",
        "\n",
        "7.\tWrite a function to demonstrate the behavior of mutable and immutable arguments\n",
        "def demonstrate_mutable_immutable(arg1, arg2):\n",
        "    # arg1 is mutable (list), arg2 is immutable (integer)\n",
        "    print(\"Before modification:\")\n",
        "    print(\"arg1 (mutable):\", arg1)\n",
        "    print(\"arg2 (immutable):\", arg2)\n",
        "    \n",
        "    # Modifying the mutable argument\n",
        "    arg1.append(4)  # Modifying the list (mutable)\n",
        "    \n",
        "    # Trying to modify the immutable argument (doesn't change)\n",
        "    arg2 += 10  # This creates a new integer object, doesn't modify the original\n",
        "\n",
        "    print(\"\\nAfter modification:\")\n",
        "    print(\"arg1 (mutable):\", arg1)  # List will be modified\n",
        "    print(\"arg2 (immutable):\", arg2)  # New integer value, original is unchanged\n",
        "\n",
        "\n",
        "# Testing the function with mutable and immutable arguments\n",
        "mutable_argument = [1, 2, 3]\n",
        "immutable_argument = 5\n",
        "\n",
        "demonstrate_mutable_immutable(mutable_argument, immutable_argument)\n",
        "\n",
        "print(\"\\nOutside the function:\")\n",
        "print(\"mutable_argument:\", mutable_argument)  # List is modified outside the function\n",
        "print(\"immutable_argument:\", immutable_argument)  # Immutable integer remains unchanged\n",
        "\n",
        "\n",
        "\n",
        "8.\tWrite a program to demonstrate the use of logical operators\n",
        "# Demonstrating logical operators in Python\n",
        "\n",
        "# Variables for demonstration\n",
        "a = 10\n",
        "b = 5\n",
        "c = 0\n",
        "\n",
        "# 'and' operator: Returns True if both conditions are True\n",
        "print(\"Using 'and' operator:\")\n",
        "if a > b and b > c:\n",
        "    print(\"a is greater than b and b is greater than c\")\n",
        "else:\n",
        "    print(\"Either a is not greater than b, or b is not greater than c\")\n",
        "\n",
        "# 'or' operator: Returns True if at least one condition is True\n",
        "print(\"\\nUsing 'or' operator:\")\n",
        "if a > b or b > c:\n",
        "    print(\"Either a is greater than b, or b is greater than c\")\n",
        "else:\n",
        "    print(\"Neither a is greater than b nor b is greater than c\")\n",
        "\n",
        "# 'not' operator: Reverses the logical state of its operand\n",
        "p\n",
        "\n",
        "\n",
        "\n",
        "9.\tWrite a Python program to convert user input from string to integer, float, and boolean types.\n",
        "# Get user input as a string\n",
        "user_input = input(\"Enter a value: \")\n",
        "\n",
        "# Convert to integer\n",
        "try:\n",
        "    int_value = int(user_input)\n",
        "    print(f\"Integer value: {int_value}\")\n",
        "except ValueError:\n",
        "    print(\"Cannot convert to integer.\")\n",
        "\n",
        "# Convert to float\n",
        "try:\n",
        "    float_value = float(user_input)\n",
        "    print(f\"Float value: {float_value}\")\n",
        "except ValueError:\n",
        "    print(\"Cannot convert to float.\")\n",
        "\n",
        "# Convert to boolean\n",
        "if user_input.lower() in ['true', '1']:\n",
        "    bool_value = True\n",
        "elif user_input.lower() in ['false', '0']:\n",
        "    bool_value = False\n",
        "else:\n",
        "    bool_value = bool(user_input)  # Default boolean conversion (non-empty string is True, empty string is False)\n",
        "\n",
        "print(f\"Boolean value: {bool_value}\")\n",
        "\n",
        "\n",
        "\n",
        "10.\tWrite code to demonstrate type casting with list elements\n",
        "# Original list of mixed data types\n",
        "mixed_list = [1, '2', 3.0, '4.5', True]\n",
        "\n",
        "# Type casting examples\n",
        "\n",
        "# 1. Convert all elements to integers\n",
        "int_list = [int(float(item)) if isinstance(item, str) or isinstance(item, float) else int(item) for item in mixed_list]\n",
        "print(\"List with integers:\", int_list)\n",
        "\n",
        "# 2. Convert all elements to strings\n",
        "str_list = [str(item) for item in mixed_list]\n",
        "print(\"List with strings:\", str_list)\n",
        "\n",
        "# 3. Convert all elements to floats\n",
        "float_list = [float(item) for item in mixed_list]\n",
        "print(\"List with floats:\", float_list)\n",
        "\n",
        "# 4. Convert all elements to booleans\n",
        "bool_list = [bool(item) for item in mixed_list]\n",
        "print(\"List with booleans:\", bool_list)\n",
        "\n",
        "\n",
        "\n",
        "11.\tWrite a program that checks if a number is positive, negative, or zero.\n",
        "# Input: Take a number from the user\n",
        "number = float(input(\"Enter a number: \"))\n",
        "\n",
        "# Check if the number is positive, negative, or zero\n",
        "if number > 0:\n",
        "    print(\"The number is positive.\")\n",
        "elif number < 0:\n",
        "    print(\"The number is negative.\")\n",
        "else:\n",
        "    print(\"The number is zero.\")\n",
        "\n",
        "\n",
        "\n",
        "12.\tWrite a for loop to print numbers from 1 to 10\n",
        "for i in range(1, 11):\n",
        "    print(i)\n",
        "\n",
        "\n",
        "\n",
        "13.\tWrite a Python program to find the sum of all even numbers between 1 and\t50.\n",
        "# Initialize the sum variable\n",
        "sum_of_even_numbers = 0\n",
        "\n",
        "# Loop through the range of numbers from 1 to 50\n",
        "for num in range(1, 51):\n",
        "    # Check if the number is even\n",
        "    if num % 2 == 0:\n",
        "        sum_of_even_numbers += num\n",
        "\n",
        "# Print the result\n",
        "print(\"The sum of all even numbers between 1 and 50 is:\", sum_of_even_numbers)\n",
        "\n",
        "\n",
        "\n",
        "14.\tWrite a program to reverse a string using a while loop.\n",
        "# Function to reverse a string using a while loop\n",
        "def reverse_string(s):\n",
        "    reversed_str = \"\"\n",
        "    i = len(s) - 1  # Start from the last character\n",
        "    while i >= 0:\n",
        "        reversed_str += s[i]  # Add the character to the reversed string\n",
        "        i -= 1  # Move to the previous character\n",
        "    return reversed_str\n",
        "\n",
        "# Example usage\n",
        "input_string = \"Hello, World!\"\n",
        "reversed_string = reverse_string(input_string)\n",
        "print(\"Original String:\", input_string)\n",
        "print(\"Reversed String:\", reversed_string)\n",
        "\n",
        "\n",
        "\n",
        "15. Write a Python program to calculate the factorial of a number provided by the user using a while loop\n",
        "# Get user input\n",
        "num = int(input(\"Enter a number to calculate its factorial: \"))\n",
        "\n",
        "# Initialize factorial to 1\n",
        "factorial = 1\n",
        "\n",
        "# Check if the number is negative\n",
        "if num < 0:\n",
        "    print(\"Factorial does not exist for negative numbers\")\n",
        "else:\n",
        "    # Calculate factorial using a while loop\n",
        "    i = 1\n",
        "    while i <= num:\n",
        "        factorial *= i\n",
        "        i += 1\n",
        "    \n",
        "    # Output the result\n",
        "    print(f\"The factorial of {num} is {factorial}\")\n",
        "\n",
        "\n",
        "\n",
        "\n"
      ],
      "metadata": {
        "id": "bHhv6gzy9zlr"
      }
    }
  ]
}